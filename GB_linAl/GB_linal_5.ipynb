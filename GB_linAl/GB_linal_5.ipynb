{
 "cells": [
  {
   "cell_type": "code",
   "execution_count": 63,
   "metadata": {},
   "outputs": [],
   "source": [
    "%matplotlib inline\n",
    "import numpy as np\n",
    "import matplotlib.pyplot as plt\n",
    "import matplotlib.mlab as mlab\n",
    "import math as math"
   ]
  },
  {
   "cell_type": "code",
   "execution_count": 10,
   "metadata": {},
   "outputs": [
    {
     "name": "stdout",
     "output_type": "stream",
     "text": [
      "10.0 Black\n"
     ]
    }
   ],
   "source": [
    "#1. Напишите код, моделирующий выпадение поля в рулетке (с учетом поля зеро).\n",
    "\n",
    "num = round(np.random.uniform(0, 37), 0)\n",
    "#num = 11\n",
    "if num==0:\n",
    "    print(\"zero. Green.\")\n",
    "elif num in (1,3,5,7,9,12,14,16,18, 21,23,25,27,28,30,32,34,36):\n",
    "    print(num, \"Red\")\n",
    "else:\n",
    "    print(num, \"Black\")"
   ]
  },
  {
   "cell_type": "code",
   "execution_count": 57,
   "metadata": {},
   "outputs": [
    {
     "name": "stdout",
     "output_type": "stream",
     "text": [
      "percent of ones is  0.0 \n",
      " percent of zeros is  1.0 \n",
      " total amount of trails is  100\n",
      "The theory of sum of probabilites does really work.\n"
     ]
    }
   ],
   "source": [
    "#2.1 Напишите код, проверяющий любую из теорем сложения или умножения вероятности на примере рулетки или \n",
    "#подбрасывания монетки.\n",
    "amount_of_trials = 100\n",
    "sum_ones = 0\n",
    "sum_zeros = 0\n",
    "for i in range(0, amount_of_trials):\n",
    "    try1 = round(np.random.uniform(1, 2), 0)\n",
    "    if try1 == 1:\n",
    "        sum_ones += 1\n",
    "    else:\n",
    "        sum_zeros += 1\n",
    " \n",
    "prob_ones = round(sum_ones/amount_of_trials, 0)\n",
    "prob_zeros = round(sum_zeros/amount_of_trials, 0)\n",
    "\n",
    "print(\"percent of ones is \", prob_ones, \"\\n percent of zeros is \", prob_zeros, \"\\n total amount of trails is \", amount_of_trials)\n",
    "if prob_ones + prob_zeros == 1:\n",
    "    print(\"The theory of sum of probabilites does really work.\")\n",
    "else:\n",
    "    print(\"ERROR!!! the theory of sum of probabilites doesn't work.\")"
   ]
  },
  {
   "cell_type": "code",
   "execution_count": 28,
   "metadata": {},
   "outputs": [
    {
     "data": {
      "text/plain": [
       "Text(0.5, 1.0, 'Histogram')"
      ]
     },
     "execution_count": 28,
     "metadata": {},
     "output_type": "execute_result"
    },
    {
     "data": {
      "image/png": "[encoded data removed]",
      "text/plain": [
       "<Figure size 432x288 with 1 Axes>"
      ]
     },
     "metadata": {
      "needs_background": "light"
     },
     "output_type": "display_data"
    }
   ],
   "source": [
    "#2.2 Сгенерируйте десять выборок случайных чисел х0, …, х9.\n",
    "#и постройте гистограмму распределения случайной суммы  +х0+ …+ х 9. \n",
    "n = 10\n",
    "allsums=[]\n",
    "for i in range(10):\n",
    "  x=np.random.rand(10)\n",
    "  allsums.append(sum(x))\n",
    "  i+=1\n",
    "num_bins = 10\n",
    "n, bins, patches = plt.hist(allsums, num_bins)\n",
    "plt.xlabel('Total')\n",
    "plt.ylabel('Probability')\n",
    "plt.title('Histogram')"
   ]
  },
  {
   "cell_type": "code",
   "execution_count": 74,
   "metadata": {},
   "outputs": [
    {
     "name": "stdout",
     "output_type": "stream",
     "text": [
      "376 1000 0.376 9.332636185032189e-302\n",
      "8.313740588370905e-16\n"
     ]
    }
   ],
   "source": [
    "#3.1 Дополните код Монте-Карло последовательности независимых испытаний расчетом соответствующих вероятностей \n",
    "#(через биномиальное распределение) и сравните результаты.\n",
    "k, n = 0, 1000\n",
    "a = np.random.randint(0, 2, n)\n",
    "b = np.random.randint(0, 2, n)\n",
    "c = np.random.randint(0, 2, n)\n",
    "d = np.random.randint(0, 2, n)\n",
    "x = a + b + c + d\n",
    "for i in range(0, n):\n",
    "    if x[i] == 2:\n",
    "        k = k + 1\n",
    "v=(0.5**k)*(0.5**(n-k))\n",
    "#print(a, b, c, d)\n",
    "#print(x)\n",
    "print(k, n, k/n,v)\n",
    "C = math.factorial(n) / (math.factorial(k) * math.factorial(n - k))\n",
    "p_rasch = C / pow(2, n)\n",
    "print(p_rasch)"
   ]
  },
  {
   "cell_type": "code",
   "execution_count": 61,
   "metadata": {},
   "outputs": [],
   "source": [
    "#3.2 Повторите расчеты биномиальных коэффициентов и вероятностей k успехов в последовательности из n \n",
    "#независимых испытаний, взяв другие значения n и k."
   ]
  },
  {
   "cell_type": "code",
   "execution_count": 76,
   "metadata": {},
   "outputs": [
    {
     "name": "stdout",
     "output_type": "stream",
     "text": [
      "188 500 0.376 3.054936363499605e-151\n",
      "6.57806356435014e-09\n"
     ]
    }
   ],
   "source": [
    "k, n = 0, 500\n",
    "a = np.random.randint(0, 2, n)\n",
    "b = np.random.randint(0, 2, n)\n",
    "c = np.random.randint(0, 2, n)\n",
    "d = np.random.randint(0, 2, n)\n",
    "x = a + b + c + d\n",
    "for i in range(0, n):\n",
    "    if x[i] == 2:\n",
    "        k = k + 1\n",
    "v=(0.5**k)*(0.5**(n-k))\n",
    "#print(a, b, c, d)\n",
    "#print(x)\n",
    "print(k, n, k/n,v)\n",
    "C = math.factorial(n) / (math.factorial(k) * math.factorial(n - k))\n",
    "p_rasch = C / pow(2, n)\n",
    "print(p_rasch)"
   ]
  },
  {
   "cell_type": "code",
   "execution_count": null,
   "metadata": {},
   "outputs": [],
   "source": []
  }
 ],
 "metadata": {
  "kernelspec": {
   "display_name": "Python 3",
   "language": "python",
   "name": "python3"
  },
  "language_info": {
   "codemirror_mode": {
    "name": "ipython",
    "version": 3
   },
   "file_extension": ".py",
   "mimetype": "text/x-python",
   "name": "python",
   "nbconvert_exporter": "python",
   "pygments_lexer": "ipython3",
   "version": "3.6.5"
  }
 },
 "nbformat": 4,
 "nbformat_minor": 2
}
