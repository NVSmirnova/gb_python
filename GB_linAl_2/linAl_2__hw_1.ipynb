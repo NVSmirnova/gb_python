{
 "cells": [
  {
   "cell_type": "code",
   "execution_count": 1,
   "metadata": {},
   "outputs": [],
   "source": [
    "#1. Исследовать на линейную зависимость:\n",
    "#𝑓1(𝑥)=𝑒𝑥,𝑓2(𝑥)=1,𝑓3(𝑥)=𝑥+1,𝑓4(𝑥)=𝑥−𝑒𝑥. \n",
    "\n",
    "#solution:\n",
    "#ex+(x-ex)+1=x+1\n",
    "#f1+f4+f2=f3"
   ]
  },
  {
   "cell_type": "code",
   "execution_count": null,
   "metadata": {},
   "outputs": [],
   "source": [
    "#2. Исследовать на линейную зависимость:\n",
    "#𝑓1(𝑥)=2,𝑓2(𝑥)=𝑥,𝑓3(𝑥)=𝑥^2,𝑓4(𝑥)=(𝑥+1)^2 \n",
    "\n",
    "#Solution:\n",
    "#x^2+2*x+1=(x+1)^2\n",
    "#f3+2*f2+0.5f1=f4\n"
   ]
  },
  {
   "cell_type": "code",
   "execution_count": null,
   "metadata": {},
   "outputs": [],
   "source": [
    "#3. Найти координаты вектора  𝑥=(2,3,5)∈ℝ3  в базисе  𝑏1=(0,0,10) ,  𝑏2=(2,0,0) ,  𝑏3=(0,1,0) \n",
    "\n",
    "#solution\n",
    "#(1,3,0.5)"
   ]
  },
  {
   "cell_type": "code",
   "execution_count": null,
   "metadata": {},
   "outputs": [],
   "source": [
    "#4. Найти координаты вектора  3𝑥^2−2𝑥+2∈ℝ3[𝑥] :\n",
    "#а) в базисе  1 ,  𝑥 ,  𝑥^2 ;\n",
    "#б) в базисе  𝑥^2 ,  𝑥−1 ,  1 .\n",
    "\n",
    "#Solution\n",
    "#a) (2,-2,3)\n",
    "#b) (3, -2, 0)"
   ]
  },
  {
   "cell_type": "code",
   "execution_count": null,
   "metadata": {},
   "outputs": [],
   "source": [
    "#5. Установить, является ли линейным подпространством:\n",
    "#а) совокупность всех векторов трехмерного пространства, у которых по крайней мере \n",
    "#одна из первых двух координат равна нулю;\n",
    "\n",
    "# - нет, не является. т.к, например, вектор вида (0,а,в) нельзя выразить через вектора вида (0,0,с) и (0,0,д)\n",
    "\n",
    "#б) все векторы, являющиеся линейными комбинациями данных векторов  {𝑢1,𝑢2,…,𝑢𝑛} \n",
    "# да."
   ]
  }
 ],
 "metadata": {
  "kernelspec": {
   "display_name": "Python 3",
   "language": "python",
   "name": "python3"
  },
  "language_info": {
   "codemirror_mode": {
    "name": "ipython",
    "version": 3
   },
   "file_extension": ".py",
   "mimetype": "text/x-python",
   "name": "python",
   "nbconvert_exporter": "python",
   "pygments_lexer": "ipython3",
   "version": "3.6.5"
  }
 },
 "nbformat": 4,
 "nbformat_minor": 2
}
