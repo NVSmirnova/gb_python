{
 "cells": [
  {
   "cell_type": "code",
   "execution_count": 86,
   "metadata": {},
   "outputs": [],
   "source": [
    "import numpy as np\n",
    "import math as math\n",
    "import scipy.stats as st"
   ]
  },
  {
   "cell_type": "code",
   "execution_count": 87,
   "metadata": {},
   "outputs": [],
   "source": [
    "#1. Известно, что генеральная совокупность распределена нормально со средним квадратическим отклонением, равным 16. \n",
    "#Найти доверительный интервал для оценки математического ожидания с надежностью 0.95, \n",
    "#если выборочная средняя M = 80, а объем выборки n = 256."
   ]
  },
  {
   "cell_type": "code",
   "execution_count": 88,
   "metadata": {},
   "outputs": [
    {
     "name": "stdout",
     "output_type": "stream",
     "text": [
      "80 +/- 1.959963984540054\n"
     ]
    }
   ],
   "source": [
    "sigma = 16\n",
    "alpha = 0.05\n",
    "M = 80\n",
    "n = 256\n",
    "print(M, \"+/-\", st.norm.ppf(1 - alpha/2) * sigma/math.sqrt(n))\n",
    "\n",
    "#st.norm.cdf(1.96)"
   ]
  },
  {
   "cell_type": "code",
   "execution_count": 89,
   "metadata": {},
   "outputs": [
    {
     "name": "stdout",
     "output_type": "stream",
     "text": [
      "6.589999999999999 +/- 0.2650665611322854\n"
     ]
    }
   ],
   "source": [
    "#2. В результате 10 независимых измерений некоторой величины X, выполненных с одинаковой точностью,\n",
    "#получены опытные данные: 6.9, 6.1, 6.2, 6.8, 7.5, 6.3, 6.4, 6.9, 6.7, 6.1 \n",
    "#    Предполагая, что результаты измерений подчинены нормальному закону распределения вероятностей, \n",
    "#    оценить истинное значение величины X при помощи доверительного интервала, покрывающего это значение \n",
    "#    с доверительной вероятностью 0,95.\n",
    "messures = [6.9, 6.1, 6.2, 6.8, 7.5, 6.3, 6.4, 6.9, 6.7, 6.1]\n",
    "print(sum(messures)/len(messures), \"+/-\", st.norm.ppf(1 - alpha/2) * np.std(messures)/np.sqrt(len(messures)))\n",
    "\n"
   ]
  },
  {
   "cell_type": "code",
   "execution_count": 90,
   "metadata": {},
   "outputs": [
    {
     "name": "stdout",
     "output_type": "stream",
     "text": [
      "Zo =  1.6448536269514722 Z1 =  2.5 The alternative hypothesis H1 is correct with power of  0.95 . The mean in the set differs from the reality.\n"
     ]
    }
   ],
   "source": [
    "#Утверждается, что шарики для подшипников, изготовленные автоматическим станком, имеют средний диаметр 17 мм. \n",
    "#Используя односторонний критерий с α=0,05, проверить эту гипотезу, если в выборке из n=100 шариков средний \n",
    "#диаметр оказался равным 17.5 мм, а дисперсия известна и равна 4 кв.мм.\n",
    "Mu = 17\n",
    "alpha = 0.05\n",
    "n = 100\n",
    "M = 17.5\n",
    "var_x = 4\n",
    "\n",
    "Zo = st.norm.ppf(1 - alpha)\n",
    "\n",
    "Z1 = (M - Mu) / (np.sqrt(var_x) / math.sqrt(n))\n",
    "\n",
    "if Zo < Z1:\n",
    "  print(\"Zo = \", Zo, \"Z1 = \", Z1, \"The alternative hypothesis H1 is correct with power of \", 1 - alpha, \n",
    "        \". The mean in the set differs from the reality.\")\n",
    "elif Zo >= Z1:\n",
    "  print(\"Zo = \", Zo, \"Z1 = \", Z1, \"The H0 hypothesis is correct with power of \", 1 - alpha, \n",
    "        \". The mean in the set doesn't differ from the reality.\")"
   ]
  },
  {
   "cell_type": "code",
   "execution_count": 91,
   "metadata": {},
   "outputs": [
    {
     "name": "stdout",
     "output_type": "stream",
     "text": [
      "Zo =  2.5758293035489004 Z1 =  -2.3077125078149243 The H0 hypothesis is correct with power of  0.99 . The shopmen is right.\n"
     ]
    }
   ],
   "source": [
    "#Продавец утверждает, что средний вес пачки печенья составляет 200 г. Из партии извлечена выборка из 10 пачек. \n",
    "#Вес каждой пачки составляет: 202, 203, 199, 197, 195, 201, 200, 204, 194, 190. \n",
    "#Известно, что их веса распределены нормально. \n",
    "#Верно ли утверждение продавца, если учитывать, что доверительная вероятность равна 99%?\n",
    "Mu = 200\n",
    "n = 10\n",
    "messures = [202, 203, 199, 197, 195, 201, 200, 204, 194, 190]\n",
    "M = sum(messures)/len(messures)\n",
    "var_x = np.std(messures)\n",
    "alpha = 0.01\n",
    "\n",
    "Zo = st.norm.ppf(1 - alpha/2)\n",
    "Zo2 = st.norm.ppf(alpha/2)\n",
    "\n",
    "Z1 = (M - Mu) / (np.sqrt(var_x) / math.sqrt(n))\n",
    "\n",
    "if Zo < Z1 or Z1 < Zo2:\n",
    "  print(\"Zo = \", Zo, \"Z1 = \", Z1, \"The alternative hypothesis H1 is correct with power of \", 1 - alpha, \n",
    "        \". The shopmen is wrong.\")\n",
    "else:\n",
    "  print(\"Zo = \", Zo, \"Z1 = \", Z1, \"The H0 hypothesis is correct with power of \", 1 - alpha, \n",
    "        \". The shopmen is right.\")\n"
   ]
  },
  {
   "cell_type": "code",
   "execution_count": 92,
   "metadata": {},
   "outputs": [
    {
     "name": "stdout",
     "output_type": "stream",
     "text": [
      "cridential interval and mean for test set of cookies are  198.5 +/- 3.441408204910145\n"
     ]
    }
   ],
   "source": [
    "print(\"cridential interval and mean for test set of cookies are \", M, \"+/-\", st.norm.ppf(1 - alpha/2) * var_x/math.sqrt(n))"
   ]
  },
  {
   "cell_type": "code",
   "execution_count": null,
   "metadata": {},
   "outputs": [],
   "source": []
  }
 ],
 "metadata": {
  "kernelspec": {
   "display_name": "Python 3",
   "language": "python",
   "name": "python3"
  },
  "language_info": {
   "codemirror_mode": {
    "name": "ipython",
    "version": 3
   },
   "file_extension": ".py",
   "mimetype": "text/x-python",
   "name": "python",
   "nbconvert_exporter": "python",
   "pygments_lexer": "ipython3",
   "version": "3.6.5"
  }
 },
 "nbformat": 4,
 "nbformat_minor": 2
}
