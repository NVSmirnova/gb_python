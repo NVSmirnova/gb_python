{
 "cells": [
  {
   "cell_type": "code",
   "execution_count": 12,
   "metadata": {},
   "outputs": [],
   "source": [
    "import numpy as np\n",
    "import math as math"
   ]
  },
  {
   "cell_type": "code",
   "execution_count": null,
   "metadata": {},
   "outputs": [],
   "source": [
    "#1. Случайная непрерывная величина A имеет равномерное распределение на промежутке (200, 800].\n",
    "#Найдите ее среднее значение и дисперсию."
   ]
  },
  {
   "cell_type": "code",
   "execution_count": 4,
   "metadata": {},
   "outputs": [
    {
     "data": {
      "text/plain": [
       "500.005"
      ]
     },
     "execution_count": 4,
     "metadata": {},
     "output_type": "execute_result"
    }
   ],
   "source": [
    "(200.01 + 800)/2 "
   ]
  },
  {
   "cell_type": "code",
   "execution_count": 7,
   "metadata": {},
   "outputs": [
    {
     "data": {
      "text/plain": [
       "30000.0"
      ]
     },
     "execution_count": 7,
     "metadata": {},
     "output_type": "execute_result"
    }
   ],
   "source": [
    "(800-200)**2/12"
   ]
  },
  {
   "cell_type": "code",
   "execution_count": 1,
   "metadata": {},
   "outputs": [],
   "source": [
    "#2. О случайной непрерывной равномерно распределенной величине B известно, что ее дисперсия равна 0.2.\n",
    "#Можно ли найти правую границу величины B и ее среднее значение зная, что левая граница равна 0.5?\n",
    "#Если да, найдите ее."
   ]
  },
  {
   "cell_type": "code",
   "execution_count": 15,
   "metadata": {},
   "outputs": [
    {
     "data": {
      "text/plain": [
       "2.049193338482967"
      ]
     },
     "execution_count": 15,
     "metadata": {},
     "output_type": "execute_result"
    }
   ],
   "source": [
    "#DX = (b-a) ** 2 /12\n",
    "a = 0.5\n",
    "DX = 0.2\n",
    "b = math.sqrt(12 * DX) + a\n",
    "b"
   ]
  },
  {
   "cell_type": "code",
   "execution_count": 16,
   "metadata": {},
   "outputs": [
    {
     "data": {
      "text/plain": [
       "1.2745966692414834"
      ]
     },
     "execution_count": 16,
     "metadata": {},
     "output_type": "execute_result"
    }
   ],
   "source": [
    "(b+a)/2"
   ]
  },
  {
   "cell_type": "code",
   "execution_count": 17,
   "metadata": {},
   "outputs": [],
   "source": [
    "# 3. Непрерывная случайная величина X распределена нормально и задана плотностью распределения\n",
    "#f(x) = (1 / (4 * sqrt(2*pi))) * (exp(-(x+2)**2) / 32).\n",
    "#Найдите:\n",
    "#а). M(X)\n",
    "#б). D(X)\n",
    "#в). std(X) (среднее квадратичное отклонение)"
   ]
  },
  {
   "cell_type": "code",
   "execution_count": null,
   "metadata": {},
   "outputs": [],
   "source": [
    "#a) M(X) = -2\n",
    "#b) D(X) = 16\n",
    "#c) std(x) = 4"
   ]
  },
  {
   "cell_type": "code",
   "execution_count": null,
   "metadata": {},
   "outputs": [],
   "source": [
    "#4. Рост взрослого населения города X имеет нормальное распределение.\n",
    "#Причем, средний рост равен 174 см, а среднее квадратичное отклонение равно 8 см.\n",
    "#Какова вероятность того, что случайным образом выбранный взрослый человек имеет рост:\n",
    "#а) больше 182 см\n",
    "#б) больше 190 см\n",
    "#в) от 166 см до 190 см\n",
    "#г) от 166 см до 182 см\n",
    "#д) от 158 см до 190 см\n",
    "#е) не выше 150 см или не ниже 190 см\n",
    "#ё) не выше 150 см или не ниже 198 см\n",
    "#ж) ниже 166 см."
   ]
  },
  {
   "cell_type": "code",
   "execution_count": 41,
   "metadata": {},
   "outputs": [],
   "source": [
    "mean4 = 174\n",
    "std4 = 8"
   ]
  },
  {
   "cell_type": "code",
   "execution_count": 26,
   "metadata": {},
   "outputs": [
    {
     "data": {
      "text/plain": [
       "0.15865525393145707"
      ]
     },
     "execution_count": 26,
     "metadata": {},
     "output_type": "execute_result"
    }
   ],
   "source": [
    "import scipy.stats\n",
    "#scipy.stats.norm(loc=mean4, scale=std4)\n",
    "#where loc is the mean and scale is the std dev\n",
    "#if you wish to pull out a random number from your distribution\n",
    "#scipy.stats.norm.rvs(loc=mean4, scale=std4)\n",
    "#scipy.stats.norm.cdf()\n",
    "\n",
    "x=182\n",
    "#To find the probability that the variable has a value GREATER than or\n",
    "#equal to let's say 125, you'd use SF Survival Function \n",
    "scipy.stats.norm.sf(x,mean4,std4)\n"
   ]
  },
  {
   "cell_type": "code",
   "execution_count": 29,
   "metadata": {},
   "outputs": [
    {
     "data": {
      "text/plain": [
       "0.022750131948179195"
      ]
     },
     "execution_count": 29,
     "metadata": {},
     "output_type": "execute_result"
    }
   ],
   "source": [
    "x=190\n",
    "#To find the probability that the variable has a value GREATER than or\n",
    "#equal to let's say 125, you'd use SF Survival Function \n",
    "scipy.stats.norm.sf(x,mean4,std4)"
   ]
  },
  {
   "cell_type": "code",
   "execution_count": 31,
   "metadata": {},
   "outputs": [
    {
     "data": {
      "text/plain": [
       "0.8185946141203637"
      ]
     },
     "execution_count": 31,
     "metadata": {},
     "output_type": "execute_result"
    }
   ],
   "source": [
    "x1=166\n",
    "x2=190\n",
    "#To find the probability that the variable has a value LESS than or equal\n",
    "#let's say x2, you'd use CDF cumulative Density Function\n",
    "scipy.stats.norm.cdf(x2,mean4,std4) - scipy.stats.norm.cdf(x1,mean4,std4)"
   ]
  },
  {
   "cell_type": "code",
   "execution_count": 32,
   "metadata": {},
   "outputs": [
    {
     "data": {
      "text/plain": [
       "0.6826894921370859"
      ]
     },
     "execution_count": 32,
     "metadata": {},
     "output_type": "execute_result"
    }
   ],
   "source": [
    "x1=166\n",
    "x2=182\n",
    "#To find the probability that the variable has a value LESS than or equal\n",
    "#let's say x2, you'd use CDF cumulative Density Function\n",
    "scipy.stats.norm.cdf(x2,mean4,std4) - scipy.stats.norm.cdf(x1,mean4,std4)"
   ]
  },
  {
   "cell_type": "code",
   "execution_count": 33,
   "metadata": {},
   "outputs": [
    {
     "data": {
      "text/plain": [
       "0.9544997361036416"
      ]
     },
     "execution_count": 33,
     "metadata": {},
     "output_type": "execute_result"
    }
   ],
   "source": [
    "x1=158\n",
    "x2=190\n",
    "#To find the probability that the variable has a value LESS than or equal\n",
    "#let's say x2, you'd use CDF cumulative Density Function\n",
    "scipy.stats.norm.cdf(x2,mean4,std4) - scipy.stats.norm.cdf(x1,mean4,std4)"
   ]
  },
  {
   "cell_type": "code",
   "execution_count": 39,
   "metadata": {},
   "outputs": [
    {
     "data": {
      "text/plain": [
       "0.024100029979809288"
      ]
     },
     "execution_count": 39,
     "metadata": {},
     "output_type": "execute_result"
    }
   ],
   "source": [
    "x1=150\n",
    "x2=190\n",
    "#To find the probability that the variable has a value LESS than or equal\n",
    "#let's say x2, you'd use CDF cumulative Density Function\n",
    "scipy.stats.norm.cdf(x1,mean4,std4) + scipy.stats.norm.sf(x2,mean4,std4)"
   ]
  },
  {
   "cell_type": "code",
   "execution_count": 40,
   "metadata": {},
   "outputs": [
    {
     "data": {
      "text/plain": [
       "0.0026997960632601866"
      ]
     },
     "execution_count": 40,
     "metadata": {},
     "output_type": "execute_result"
    }
   ],
   "source": [
    "x1=150\n",
    "x2=198\n",
    "#To find the probability that the variable has a value LESS than or equal\n",
    "#let's say x2, you'd use CDF cumulative Density Function\n",
    "scipy.stats.norm.cdf(x1,mean4,std4) + scipy.stats.norm.sf(x2,mean4,std4)"
   ]
  },
  {
   "cell_type": "code",
   "execution_count": 42,
   "metadata": {},
   "outputs": [
    {
     "data": {
      "text/plain": [
       "0.15865525393145707"
      ]
     },
     "execution_count": 42,
     "metadata": {},
     "output_type": "execute_result"
    }
   ],
   "source": [
    "x=166\n",
    "scipy.stats.norm.cdf(x,mean4,std4)"
   ]
  },
  {
   "cell_type": "code",
   "execution_count": null,
   "metadata": {},
   "outputs": [],
   "source": [
    "#To find the variate for which the probability is given, let's say the \n",
    "#value which needed to provide a 98% probability, you'd use the \n",
    "#PPF Percent Point Function\n",
    "#scipy.stats.norm.ppf(.98,100,12)\n",
    "#Output: 124.64498692758187"
   ]
  },
  {
   "cell_type": "code",
   "execution_count": 43,
   "metadata": {},
   "outputs": [],
   "source": [
    "# 5. На сколько сигм (средних квадратичных отклонений) отклоняется рост человека, равный 190 см, от\n",
    "#математического ожидания роста в популяции, в которой M(X) = 178 см и D(X) = 25 кв.см?"
   ]
  },
  {
   "cell_type": "code",
   "execution_count": 45,
   "metadata": {},
   "outputs": [
    {
     "data": {
      "text/plain": [
       "2.4"
      ]
     },
     "execution_count": 45,
     "metadata": {},
     "output_type": "execute_result"
    }
   ],
   "source": [
    "x = 190\n",
    "Mx = 178\n",
    "Dx = 25\n",
    "sigma = math.sqrt(Dx)\n",
    "(x-Mx)/sigma"
   ]
  },
  {
   "cell_type": "code",
   "execution_count": null,
   "metadata": {},
   "outputs": [],
   "source": []
  },
  {
   "cell_type": "code",
   "execution_count": null,
   "metadata": {},
   "outputs": [],
   "source": []
  },
  {
   "cell_type": "code",
   "execution_count": null,
   "metadata": {},
   "outputs": [],
   "source": []
  }
 ],
 "metadata": {
  "kernelspec": {
   "display_name": "Python 3",
   "language": "python",
   "name": "python3"
  },
  "language_info": {
   "codemirror_mode": {
    "name": "ipython",
    "version": 3
   },
   "file_extension": ".py",
   "mimetype": "text/x-python",
   "name": "python",
   "nbconvert_exporter": "python",
   "pygments_lexer": "ipython3",
   "version": "3.6.5"
  }
 },
 "nbformat": 4,
 "nbformat_minor": 2
}
